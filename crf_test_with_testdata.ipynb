{
 "cells": [
  {
   "cell_type": "code",
   "execution_count": 1,
   "metadata": {},
   "outputs": [],
   "source": [
    "from crf import train, predict\n",
    "import pandas as pd\n",
    "from konlpy.tag import Twitter"
   ]
  },
  {
   "cell_type": "code",
   "execution_count": 2,
   "metadata": {
    "scrolled": false
   },
   "outputs": [
    {
     "data": {
      "text/html": [
       "<div>\n",
       "<style scoped>\n",
       "    .dataframe tbody tr th:only-of-type {\n",
       "        vertical-align: middle;\n",
       "    }\n",
       "\n",
       "    .dataframe tbody tr th {\n",
       "        vertical-align: top;\n",
       "    }\n",
       "\n",
       "    .dataframe thead th {\n",
       "        text-align: right;\n",
       "    }\n",
       "</style>\n",
       "<table border=\"1\" class=\"dataframe\">\n",
       "  <thead>\n",
       "    <tr style=\"text-align: right;\">\n",
       "      <th></th>\n",
       "      <th>document</th>\n",
       "      <th>label</th>\n",
       "    </tr>\n",
       "  </thead>\n",
       "  <tbody>\n",
       "    <tr>\n",
       "      <th>0</th>\n",
       "      <td>스파이시 이탈리안 주문해줘</td>\n",
       "      <td>[B-SANDWICH, I-SANDWICH, I-SANDWICH, O, O]</td>\n",
       "    </tr>\n",
       "    <tr>\n",
       "      <th>1</th>\n",
       "      <td>스파이시 이탈리안 샌드위치 주문</td>\n",
       "      <td>[B-SANDWICH, I-SANDWICH, I-SANDWICH, I-SANDWIC...</td>\n",
       "    </tr>\n",
       "    <tr>\n",
       "      <th>2</th>\n",
       "      <td>스파이시 이탈리안 주문</td>\n",
       "      <td>[B-SANDWICH, I-SANDWICH, I-SANDWICH, O]</td>\n",
       "    </tr>\n",
       "    <tr>\n",
       "      <th>3</th>\n",
       "      <td>스파이시이탈리안샌드위치 세트 주문</td>\n",
       "      <td>[B-SANDWICH, I-LSANDWICH, I-SANDWICH, L-SANDWI...</td>\n",
       "    </tr>\n",
       "    <tr>\n",
       "      <th>4</th>\n",
       "      <td>서브웨이 클럽 주문해줘</td>\n",
       "      <td>[B-SANDWICH, I-SANDWICH, O, O]</td>\n",
       "    </tr>\n",
       "    <tr>\n",
       "      <th>5</th>\n",
       "      <td>서브웨이 클럽 샌드위치 주문해줘</td>\n",
       "      <td>[B-SANDWICH, I-SANDWICH, I-SANDWICH, O, O]</td>\n",
       "    </tr>\n",
       "    <tr>\n",
       "      <th>6</th>\n",
       "      <td>서브웨이 클럽 샌드위치 세트 주문</td>\n",
       "      <td>[B-SANDWICH, I-SANDWICH, I-SANDWICH, O, O]</td>\n",
       "    </tr>\n",
       "    <tr>\n",
       "      <th>7</th>\n",
       "      <td>로스트 치킨 주문</td>\n",
       "      <td>[B-SANDWICH, L-SANDWICH, O]</td>\n",
       "    </tr>\n",
       "    <tr>\n",
       "      <th>8</th>\n",
       "      <td>로스트 치킨 샌드위치 주문해줘</td>\n",
       "      <td>[B-SANDWICH, I-SANDWICH, I-SANDWICH, O, O]</td>\n",
       "    </tr>\n",
       "    <tr>\n",
       "      <th>9</th>\n",
       "      <td>로스트치킨샌드위치 주문할게</td>\n",
       "      <td>[B-SANDWICH, I-SANDWICH, O, O]</td>\n",
       "    </tr>\n",
       "    <tr>\n",
       "      <th>10</th>\n",
       "      <td>로스트치킨 샌드위치 주문해줘</td>\n",
       "      <td>[B-SANDWICH, I-SANDWICH, O, O]</td>\n",
       "    </tr>\n",
       "    <tr>\n",
       "      <th>11</th>\n",
       "      <td>로스트치킨샌드위치 주문</td>\n",
       "      <td>[B-SANDWICH, I-SANDWICH, O]</td>\n",
       "    </tr>\n",
       "  </tbody>\n",
       "</table>\n",
       "</div>"
      ],
      "text/plain": [
       "              document                                              label\n",
       "0       스파이시 이탈리안 주문해줘         [B-SANDWICH, I-SANDWICH, I-SANDWICH, O, O]\n",
       "1    스파이시 이탈리안 샌드위치 주문  [B-SANDWICH, I-SANDWICH, I-SANDWICH, I-SANDWIC...\n",
       "2         스파이시 이탈리안 주문            [B-SANDWICH, I-SANDWICH, I-SANDWICH, O]\n",
       "3   스파이시이탈리안샌드위치 세트 주문  [B-SANDWICH, I-LSANDWICH, I-SANDWICH, L-SANDWI...\n",
       "4         서브웨이 클럽 주문해줘                     [B-SANDWICH, I-SANDWICH, O, O]\n",
       "5    서브웨이 클럽 샌드위치 주문해줘         [B-SANDWICH, I-SANDWICH, I-SANDWICH, O, O]\n",
       "6   서브웨이 클럽 샌드위치 세트 주문         [B-SANDWICH, I-SANDWICH, I-SANDWICH, O, O]\n",
       "7            로스트 치킨 주문                        [B-SANDWICH, L-SANDWICH, O]\n",
       "8     로스트 치킨 샌드위치 주문해줘         [B-SANDWICH, I-SANDWICH, I-SANDWICH, O, O]\n",
       "9       로스트치킨샌드위치 주문할게                     [B-SANDWICH, I-SANDWICH, O, O]\n",
       "10     로스트치킨 샌드위치 주문해줘                     [B-SANDWICH, I-SANDWICH, O, O]\n",
       "11        로스트치킨샌드위치 주문                        [B-SANDWICH, I-SANDWICH, O]"
      ]
     },
     "execution_count": 2,
     "metadata": {},
     "output_type": "execute_result"
    }
   ],
   "source": [
    "df = pd.DataFrame(columns=['document', 'label'])\n",
    "df.loc[len(df)] = ['스파이시 이탈리안 주문해줘', ['B-SANDWICH', 'I-SANDWICH', 'I-SANDWICH','O', 'O']]\n",
    "df.loc[len(df)] = ['스파이시 이탈리안 샌드위치 주문', ['B-SANDWICH', 'I-SANDWICH', 'I-SANDWICH', 'I-SANDWICH', 'O']]\n",
    "df.loc[len(df)] = ['스파이시 이탈리안 주문', ['B-SANDWICH', 'I-SANDWICH', 'I-SANDWICH', 'O']]\n",
    "df.loc[len(df)] = ['스파이시이탈리안샌드위치 세트 주문', ['B-SANDWICH', 'I-LSANDWICH', 'I-SANDWICH', 'L-SANDWICH', 'O', 'O']]\n",
    "df.loc[len(df)] = ['서브웨이 클럽 주문해줘', ['B-SANDWICH', 'I-SANDWICH', 'O', 'O']]\n",
    "df.loc[len(df)] = ['서브웨이 클럽 샌드위치 주문해줘', ['B-SANDWICH', 'I-SANDWICH', 'I-SANDWICH', 'O', 'O']]\n",
    "df.loc[len(df)] = ['서브웨이 클럽 샌드위치 세트 주문', ['B-SANDWICH', 'I-SANDWICH', 'I-SANDWICH', 'O', 'O']]\n",
    "df.loc[len(df)] = ['로스트 치킨 주문', ['B-SANDWICH', 'L-SANDWICH', 'O']]\n",
    "df.loc[len(df)] = ['로스트 치킨 샌드위치 주문해줘', ['B-SANDWICH', 'I-SANDWICH', 'I-SANDWICH', 'O', 'O']]\n",
    "df.loc[len(df)] = ['로스트치킨샌드위치 주문할게',['B-SANDWICH', 'I-SANDWICH', 'O', 'O']]\n",
    "df.loc[len(df)] = ['로스트치킨 샌드위치 주문해줘', ['B-SANDWICH', 'I-SANDWICH', 'O', 'O']]\n",
    "df.loc[len(df)] = ['로스트치킨샌드위치 주문', ['B-SANDWICH', 'I-SANDWICH', 'O']]\n",
    "df"
   ]
  },
  {
   "cell_type": "code",
   "execution_count": 3,
   "metadata": {},
   "outputs": [],
   "source": [
    "filepath = 'model/sandwich.crf'"
   ]
  },
  {
   "cell_type": "code",
   "execution_count": 4,
   "metadata": {},
   "outputs": [
    {
     "name": "stdout",
     "output_type": "stream",
     "text": [
      "crf train start!\n"
     ]
    },
    {
     "data": {
      "text/plain": [
       "True"
      ]
     },
     "execution_count": 4,
     "metadata": {},
     "output_type": "execute_result"
    }
   ],
   "source": [
    "train(filepath, df['document'], df['label'])"
   ]
  },
  {
   "cell_type": "code",
   "execution_count": 5,
   "metadata": {},
   "outputs": [],
   "source": [
    "twitter = Twitter()"
   ]
  },
  {
   "cell_type": "code",
   "execution_count": 6,
   "metadata": {},
   "outputs": [],
   "source": [
    "test_texts = ['로스트 치킨 샌드위치 세트 주문할까?', '스파이시 이탈리안 맵지 않냐']"
   ]
  },
  {
   "cell_type": "code",
   "execution_count": 7,
   "metadata": {},
   "outputs": [
    {
     "data": {
      "text/plain": [
       "[['B-SANDWICH', 'I-SANDWICH', 'I-SANDWICH', 'O', 'O', 'O', 'O'],\n",
       " ['B-SANDWICH', 'I-SANDWICH', 'I-SANDWICH', 'O', 'O', 'O']]"
      ]
     },
     "execution_count": 7,
     "metadata": {},
     "output_type": "execute_result"
    }
   ],
   "source": [
    "predict(filepath, test_texts)"
   ]
  }
 ],
 "metadata": {
  "kernelspec": {
   "display_name": "Python 3",
   "language": "python",
   "name": "python3"
  },
  "language_info": {
   "codemirror_mode": {
    "name": "ipython",
    "version": 3
   },
   "file_extension": ".py",
   "mimetype": "text/x-python",
   "name": "python",
   "nbconvert_exporter": "python",
   "pygments_lexer": "ipython3",
   "version": "3.5.5"
  }
 },
 "nbformat": 4,
 "nbformat_minor": 2
}
